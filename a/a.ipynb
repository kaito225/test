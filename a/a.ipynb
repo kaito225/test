{
 "cells": [
  {
   "cell_type": "code",
   "execution_count": null,
   "metadata": {},
   "outputs": [],
   "source": [
    "import matplotlib.pyplot as plt #画像を表示するためのモジュール\n",
    "import cv2  #OpenCVをインポート\n",
    "import numpy as np #numpyをインポート\n",
    " \n",
    "img = cv2.imread(\"20202.jpg\") #画像の読み込み\n",
    "img = cv2.cvtColor(img, cv2.COLOR_BGR2RGB) #色配置の変換 BGR→RGB\n",
    " \n",
    "img_array = np.asarray(img) #numpyで扱える配列をつくる\n",
    "print(img_array)\n",
    " \n",
    "plt.imshow(img_array)\n",
    "plt.show()\n",
    " \n",
    "cv2.imwrite(\"20202_result.jpg\", img_array)"
   ]
  },
  {
   "cell_type": "code",
   "execution_count": null,
   "metadata": {},
   "outputs": [],
   "source": [
    "print(img_array.shape)"
   ]
  }
 ],
 "metadata": {
  "kernelspec": {
   "display_name": "Python 3.9.5 64-bit",
   "language": "python",
   "name": "python3"
  },
  "language_info": {
   "codemirror_mode": {
    "name": "ipython",
    "version": 3
   },
   "file_extension": ".py",
   "mimetype": "text/x-python",
   "name": "python",
   "nbconvert_exporter": "python",
   "pygments_lexer": "ipython3",
   "version": "3.9.5"
  },
  "orig_nbformat": 4,
  "vscode": {
   "interpreter": {
    "hash": "48ad7a01d8adadb04c3d587bf406cb795c0f27babf20a02e8211dc24044736bf"
   }
  }
 },
 "nbformat": 4,
 "nbformat_minor": 2
}
