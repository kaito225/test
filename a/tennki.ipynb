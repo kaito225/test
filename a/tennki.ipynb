{
 "cells": [
  {
   "cell_type": "code",
   "execution_count": 1,
   "metadata": {},
   "outputs": [],
   "source": [
    "import urllib3\n",
    "from bs4 import BeautifulSoup\n",
    "import requests\n",
    "import datetime\n",
    "import schedule\n",
    "import time\n",
    "\n",
    "def job():\n",#指定した時間に天気予報の通知が来るように設定
    "  #LINE API必須設定\n",
    "  url = \"https://notify-api.line.me/api/notify\"\n",
    "  access_token = #'ライン上で取得したトークンをここに貼り付ける'\n",
    "  headers = {'Authorization': 'Bearer ' + access_token}\n",
    "  #アクセスするURL\n",
    "  url2 = 'https://weather.yahoo.co.jp/weather/jp/6/3520.html'\n",#ヤフーの天気予報を参照
    "  #URLにアクセスする 戻り値にはアクセスした結果やHTMLなどが入ったinstanceがかえる\n",
    "  http = urllib3.PoolManager()\n",
    "  instance = http.request('GET', url2)\n",
    "  #instanceからHTMLを取り出して、BeautifulSoupで扱えるようにする\n",
    "  soup = BeautifulSoup(instance.data, 'html.parser')\n",
    "  #CSSセレクターで天気のテキストを取得。\n",
    "  # #今日の天気\n",
    "  tenki_today = soup.select_one('#main > div.forecastCity > table > tr > td > div > p.pict')\n",
    "  #message送信\n",
    "  message = tenki_today.text\n",
    "  payload = {'message': message}\n",
    "  r = requests.post(url, headers=headers, params=payload,)\n",
    "schedule.every().day.at(\"時間いれて\").do(job)  \n",
    "while True:\n",
    "  schedule.run_pending()\n",
    "  time.sleep(60)\n"
   ]
  }
 ],
 "metadata": {
  "kernelspec": {
   "display_name": "Python 3.9.5 64-bit",
   "language": "python",
   "name": "python3"
  },
  "language_info": {
   "codemirror_mode": {
    "name": "ipython",
    "version": 3
   },
   "file_extension": ".py",
   "mimetype": "text/x-python",
   "name": "python",
   "nbconvert_exporter": "python",
   "pygments_lexer": "ipython3",
   "version": "3.9.5"
  },
  "orig_nbformat": 4,
  "vscode": {
   "interpreter": {
    "hash": "48ad7a01d8adadb04c3d587bf406cb795c0f27babf20a02e8211dc24044736bf"
   }
  }
 },
 "nbformat": 4,
 "nbformat_minor": 2
}
