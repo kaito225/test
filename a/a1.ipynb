{
 "cells": [
  {
   "cell_type": "code",
   "execution_count": null,
   "metadata": {},
   "outputs": [],
   "source": [
    "import re\n",
    "while True:\n",
    "    a=input()\n",
    "    result=re.findall(r\"\\d+\",a)#リストに数字のみ抽出\n",
    "    d=int(result[0])#リストの数字を整数型に変換\n",
    "    b=int(result[1])\n",
    "    x=[]\n",
    "    n=0\n",
    "    if d>0 and d<101:\n",
    "        if b>0 and b<101:\n",
    "            while True:    \n",
    "                c=input()\n",
    "                e=re.findall(r\"\\d+\",c)\n",
    "                if len(e)==d:\n",
    "                    break\n",
    "            for i in range(len(e)):\n",
    "                if int(e[i])>0 and int(e[i])<101:\n",
    "                    x.append(int(e[i]))\n",
    "            break\n",
    "if len(x)>0:\n",
    "    while (range(len(x))): \n",
    "        if b==x[n]:\n",
    "            print(\"Yes\")\n",
    "            break\n",
    "        if n==len(x)-1:\n",
    "            print(\"No\")\n",
    "            break\n",
    "        n+=1"
   ]
  },
  {
   "cell_type": "code",
   "execution_count": 1,
   "metadata": {},
   "outputs": [],
   "source": [
    "#アルゴリズムの問題\n",
    "while True:\n",
    "    n=int(input())\n",
    "    x=[]\n",
    "    if n>1 and n<100001:\n",
    "        for k in range(n):\n",
    "            a=int(input())\n",
    "            if a>=0 and a<1000000001:\n",
    "                x.append(a)\n",
    "        for i in range(len(x)):\n",
    "            if x[i]<x[i+1]:\n",
    "                print(\"up \",x[i+1]-x[i])\n",
    "            if x[i]==x[i+1]:\n",
    "                print(\"stay\")\n",
    "            if x[i]>x[i+1]:\n",
    "                print(\"down \",x[i]-x[i+1])\n",
    "        break"
   ]
  }
 ],
 "metadata": {
  "kernelspec": {
   "display_name": "Python 3.9.5 64-bit",
   "language": "python",
   "name": "python3"
  },
  "language_info": {
   "codemirror_mode": {
    "name": "ipython",
    "version": 3
   },
   "file_extension": ".py",
   "mimetype": "text/x-python",
   "name": "python",
   "nbconvert_exporter": "python",
   "pygments_lexer": "ipython3",
   "version": "3.9.5 (tags/v3.9.5:0a7dcbd, May  3 2021, 17:27:52) [MSC v.1928 64 bit (AMD64)]"
  },
  "orig_nbformat": 4,
  "vscode": {
   "interpreter": {
    "hash": "48ad7a01d8adadb04c3d587bf406cb795c0f27babf20a02e8211dc24044736bf"
   }
  }
 },
 "nbformat": 4,
 "nbformat_minor": 2
}
