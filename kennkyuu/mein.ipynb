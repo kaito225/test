{
 "cells": [
  {
   "cell_type": "code",
   "execution_count": null,
   "metadata": {},
   "outputs": [],
   "source": [
    "import numpy as np#写真の色素の範囲から写真の色の座標をcsv入れる。\n",
    "from matplotlib import pyplot as plt\n",
    "import os\n",
    "import skimage\n",
    "from skimage import io\n",
    "from tqdm import tqdm\n",
    "import glob\n",
    "import cv2\n",
    "import csv \n",
    "#入力する画像ファイルのディレクトリ、結果出力先のディレクトリを指定\n",
    "#rootフォルダ （プログラム内容が記載させているフォルダ）- 「data」フォルダ - 「image」フォルダ内にある画像を処理し、「date」フォルダ-「result」フォルダに出力\n",
    "path=\"date/\"\n",
    "input_dir=\"image\"\n",
    "output_dir=\"result\" \n",
    "\n",
    "all_files=glob.glob(os.path.join(path,input_dir,\"**/*.*\"),recursive=True)#ファイルパスを結合してフルパスを作成\n",
    " \n",
    "#追記型でcsvファイルを作成\n",
    "csvfile = open(\"np_csv_test.csv\", \"w\")\n",
    " \n",
    "\n",
    "for i,filepath in tqdm(enumerate(all_files)):#画像処理ループ\n",
    " \n",
    "    \n",
    "    src = cv2.imread(filepath)#画像の読み込み\n",
    "    src=cv2.cvtColor(src, cv2.COLOR_BGR2RGB)\n",
    " \n",
    "    \n",
    "    src = cv2.rotate(src, cv2.ROTATE_90_CLOCKWISE)#座標の読み込みが左上からであるため、画像の左下が原点になるように補正\n",
    "    dst = cv2.inRange(src, (230, 230, 230), (255, 255, 255))#RGBの順番 lower,upper色素の範囲を選択\n",
    " \n",
    "    #スクリプトファイルと同階層に保存されます。\n",
    "    #finenameから「画像ファイル名.bmp」を抽出する\n",
    "    filename = filepath.rsplit(\"\\\\\")[1]\n",
    "    #出力する画像ファイルのフルパスを作成する\n",
    "    outputimage = path + output_dir +\"/\" + \"Extracted_redline_\" + filename\n",
    "    cv2.imwrite(outputimage, dst)\n",
    " \n",
    "   \n",
    "    indices =np.dstack(np.where(dst == 255)) #Y,Xの順で出力される。二次元配列を形成特定の色の座標を取得\n",
    "    #画像1枚に対して、csv1個が生成する。\n",
    "    outputcsv = path + output_dir +\"/\" + \"result.csv\";\n",
    " \n",
    "    \n",
    "    #実行のたびに、csvファイルに上書きされる。新たに追加で値が記載されている。\n",
    "    x = indices[0,:]# indicesの配列を与える。\n",
    "    with open(outputcsv, 'ab') as f:\n",
    "        np.savetxt(f, x, fmt=\"%.0d\", delimiter = \",\")#csvに書き込み\n",
    " \n",
    "#csvファイルのクローズ\n",
    "csvfile.close()"
   ]
  },
  {
   "cell_type": "code",
   "execution_count": 1,
   "metadata": {},
   "outputs": [
    {
     "name": "stdout",
     "output_type": "stream",
     "text": [
      "10 17\n"
     ]
    },
    {
     "data": {
      "text/plain": [
       "-1"
      ]
     },
     "execution_count": 1,
     "metadata": {},
     "output_type": "execute_result"
    }
   ],
   "source": [
    "#このモジュールで画像の座標を調べて次のモジュールでの利用\n",
    "import cv2  \n",
    "\n",
    "def onclick(event,x,y,flags,params):\n",
    "    if event==cv2.EVENT_LBUTTONDBLCLK:\n",
    "        print(x,y)\n",
    "    \n",
    "img = cv2.imread(\"date/image/20202.jpg\") #画像の読み込み  \n",
    "cv2.imshow('image',img)\n",
    "cv2.setMouseCallback('image',onclick)\n",
    "cv2.waitKey(0)"
   ]
  },
  {
   "cell_type": "code",
   "execution_count": null,
   "metadata": {},
   "outputs": [],
   "source": [
    "#ライブラリのインポート 写真のフィッティング 上記のモジュールを利用して座標を絞って拡大\n",
    "import numpy as np\n",
    "import cv2\n",
    "\n",
    "#ベース画像の読み込み&情報入力\n",
    "img=cv2.imread('date/image/20202.jpg',cv2.IMREAD_GRAYSCALE)\n",
    "h,w=img.shape[:2]\n",
    "cx=3\n",
    "cy=3\n",
    "x1=230 #pixel\n",
    "y1=240 #pixel\n",
    "\n",
    "#基準位置を確認するためのポイントを描写する\n",
    "#必要なければ以降の２行は削除する\n",
    "cv2.circle(img,center=(x1,y1),radius=10,color=255,thickness=-1)\n",
    "cv2.imwrite('img_point.png',img)\n",
    "\n",
    "#画像の拡大作業開始\n",
    "x2=x1*cx #pixel\n",
    "y2=y1*cy #pixel\n",
    "size_after=(int(w*cx), int(h*cy))\n",
    "resized_img=cv2.resize(img, dsize=size_after)\n",
    "deltax=(w/2-x1)-(resized_img.shape[1]/2-x2)\n",
    "deltay=(h/2-y1)-(resized_img.shape[0]/2-y2)\n",
    "\n",
    "framey=int(h*cy*2)\n",
    "framex=int(w*cx*2)\n",
    "finalimg=np.zeros((framey,framex),np.uint8)\n",
    "finalimg[int(-deltay+framey/2-resized_img.shape[0]/2):int(-deltay+framey/2+resized_img.shape[0]/2),\n",
    "         int(-deltax+framex/2-resized_img.shape[1]/2):int(-deltax+framex/2+resized_img.shape[1]/2)]=resized_img\n",
    "finalimg=finalimg[int(finalimg.shape[0]/2-h/2):int(finalimg.shape[0]/2+h/2),int(finalimg.shape[1]/2-w/2):int(finalimg.shape[1]/2+w/2)]\n",
    "\n",
    "#結果の出力\n",
    "cv2.imwrite('final_img.jpg',finalimg)"
   ]
  },
  {
   "cell_type": "code",
   "execution_count": null,
   "metadata": {},
   "outputs": [],
   "source": [
    "import numpy as np #csv読み込み\n",
    "import matplotlib.pyplot as plt #csvのデータを散布図を描画\n",
    "date_set=np.loadtxt(\n",
    "    fname='date/result/result.csv',dtype='float' ,delimiter=',')\n",
    "for date in date_set:\n",
    "    plt.scatter(date[0],date[1],color='white',zorder=2,s=0.1#優先度を決定\n",
    "    )#列の1列目と2列目を読み込んでいる（csvのデータによって変換する）\n",
    "    plt.rcParams['axes.facecolor'] = 'black'\n",
    "\n",
    "plt.title('分子の位置',fontname ='MS Gothic')#タイトル\n",
    "plt.xlabel('x座標',fontname ='MS Gothic')#文字化けをなくすためfontnameで指定\n",
    "plt.ylabel('y座標',fontname ='MS Gothic')\n",
    "plt.xlim(0,512)#グラフの範囲を指定\n",
    "plt.ylim(0,512)\n",
    "plt.grid(linewidth='1',zorder=1)#ぐりっと線\n",
    "\n",
    "plt.show()"
   ]
  }
 ],
 "metadata": {
  "kernelspec": {
   "display_name": "Python 3.9.5 64-bit",
   "language": "python",
   "name": "python3"
  },
  "language_info": {
   "codemirror_mode": {
    "name": "ipython",
    "version": 3
   },
   "file_extension": ".py",
   "mimetype": "text/x-python",
   "name": "python",
   "nbconvert_exporter": "python",
   "pygments_lexer": "ipython3",
   "version": "3.9.5"
  },
  "orig_nbformat": 4,
  "vscode": {
   "interpreter": {
    "hash": "48ad7a01d8adadb04c3d587bf406cb795c0f27babf20a02e8211dc24044736bf"
   }
  }
 },
 "nbformat": 4,
 "nbformat_minor": 2
}
